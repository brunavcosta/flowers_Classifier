{
  "nbformat": 4,
  "nbformat_minor": 0,
  "metadata": {
    "colab": {
      "provenance": [],
      "collapsed_sections": [
        "sIBZww6kOIAp",
        "UQlXWErlbhsG"
      ]
    },
    "kernelspec": {
      "name": "python3",
      "display_name": "Python 3"
    }
  },
  "cells": [
    {
      "cell_type": "markdown",
      "metadata": {
        "id": "hG9gxhAqVTBT"
      },
      "source": [
        "##Flower Classification\n",
        "This notebook is for image classification, specifically, for classifying flowers.\n",
        "The goal of the notebook is to train and evaluate a neural network model for flower image classification.\n",
        "Steps include data loading, exploring the dataset, defining a Neural Network, training the model, and evaluating its performance."
      ]
    },
    {
      "cell_type": "markdown",
      "metadata": {
        "id": "iWk2Kb7Sdk-T"
      },
      "source": [
        "###Imports and Setup"
      ]
    },
    {
      "cell_type": "code",
      "metadata": {
        "id": "eH4_xJaD605_",
        "colab": {
          "base_uri": "https://localhost:8080/"
        },
        "outputId": "74517510-f90e-4c8e-b587-57b49ba4ab4b"
      },
      "source": [
        "%tensorflow_version 2.x  # this line is not required unless you are in a notebook"
      ],
      "execution_count": null,
      "outputs": [
        {
          "output_type": "stream",
          "name": "stdout",
          "text": [
            "Colab only includes TensorFlow 2.x; %tensorflow_version has no effect.\n"
          ]
        }
      ]
    },
    {
      "cell_type": "code",
      "metadata": {
        "id": "TMiLc6LPdoPm"
      },
      "source": [
        "from __future__ import absolute_import, division, print_function, unicode_literals\n",
        "\n",
        "\n",
        "import tensorflow as tf\n",
        "\n",
        "import pandas as pd"
      ],
      "execution_count": null,
      "outputs": []
    },
    {
      "cell_type": "markdown",
      "metadata": {
        "id": "9zLNzmkGds1U"
      },
      "source": [
        "###Dataset\n",
        "This specific dataset seperates flowers into 3 different classes of species.\n",
        "- Setosa\n",
        "- Versicolor\n",
        "- Virginica\n",
        "\n",
        "The information about each flower is the following.\n",
        "- sepal length\n",
        "- sepal width\n",
        "- petal length\n",
        "- petal width"
      ]
    },
    {
      "cell_type": "code",
      "source": [
        "import tensorflow as tf\n",
        "import pandas as pd\n",
        "from tensorflow.keras import layers, models\n",
        "\n",
        "# Constants\n",
        "CSV_COLUMN_NAMES = ['SepalLength', 'SepalWidth', 'PetalLength', 'PetalWidth', 'Species']\n",
        "SPECIES = ['Setosa', 'Versicolor', 'Virginica']\n",
        "\n",
        "# Load the dataset\n",
        "train_path = tf.keras.utils.get_file(\n",
        "    \"iris_training.csv\", \"https://storage.googleapis.com/download.tensorflow.org/data/iris_training.csv\")\n",
        "test_path = tf.keras.utils.get_file(\n",
        "    \"iris_test.csv\", \"https://storage.googleapis.com/download.tensorflow.org/data/iris_test.csv\")\n",
        "\n",
        "train = pd.read_csv(train_path, names=CSV_COLUMN_NAMES, header=0)\n",
        "test = pd.read_csv(test_path, names=CSV_COLUMN_NAMES, header=0)\n",
        "\n",
        "# Separate labels from features\n",
        "train_y = train.pop('Species')\n",
        "test_y = test.pop('Species')\n",
        "\n",
        "# Convert dataframes to numpy arrays (optional but clearer)\n",
        "X_train = train.values\n",
        "X_test = test.values\n",
        "y_train = train_y.values\n",
        "y_test = test_y.values\n",
        "\n",
        "# Define the Keras model\n",
        "model = tf.keras.Sequential([\n",
        "    layers.Input(shape=(X_train.shape[1],)),  # Input layer with 4 features\n",
        "    layers.Dense(64, activation='relu'),      # First hidden layer\n",
        "    layers.Dense(32, activation='relu'),      # Second hidden layer\n",
        "    layers.Dense(3, activation='softmax') # Output layer for 3 classes\n",
        "])\n",
        "\n",
        "# Compile the model\n",
        "model.compile(\n",
        "    optimizer='adam',\n",
        "    loss='sparse_categorical_crossentropy',\n",
        "    metrics=['accuracy']\n",
        ")\n",
        "\n",
        "# Train the model (equivalent to classifier.train)\n",
        "model.fit(X_train, y_train, epochs=60, batch_size=256, verbose=2)\n",
        "\n",
        "# Evaluate the model\n",
        "loss, accuracy = model.evaluate(X_test, y_test, verbose=0)\n",
        "print(f\"Test accuracy: {accuracy:.4f}\")\n"
      ],
      "metadata": {
        "colab": {
          "base_uri": "https://localhost:8080/"
        },
        "id": "QA_3OCMAywoS",
        "outputId": "41f70a21-055b-4ad3-c9d3-15871eb31dbc"
      },
      "execution_count": null,
      "outputs": [
        {
          "output_type": "stream",
          "name": "stdout",
          "text": [
            "Epoch 1/60\n",
            "1/1 - 1s - 1s/step - accuracy: 0.3500 - loss: 1.2084\n",
            "Epoch 2/60\n",
            "1/1 - 0s - 59ms/step - accuracy: 0.3500 - loss: 1.1567\n",
            "Epoch 3/60\n",
            "1/1 - 0s - 53ms/step - accuracy: 0.3500 - loss: 1.1105\n",
            "Epoch 4/60\n",
            "1/1 - 0s - 56ms/step - accuracy: 0.3500 - loss: 1.0697\n",
            "Epoch 5/60\n",
            "1/1 - 0s - 66ms/step - accuracy: 0.4417 - loss: 1.0346\n",
            "Epoch 6/60\n",
            "1/1 - 0s - 58ms/step - accuracy: 0.6917 - loss: 1.0050\n",
            "Epoch 7/60\n",
            "1/1 - 0s - 55ms/step - accuracy: 0.7000 - loss: 0.9796\n",
            "Epoch 8/60\n",
            "1/1 - 0s - 50ms/step - accuracy: 0.7000 - loss: 0.9575\n",
            "Epoch 9/60\n",
            "1/1 - 0s - 53ms/step - accuracy: 0.7000 - loss: 0.9377\n",
            "Epoch 10/60\n",
            "1/1 - 0s - 52ms/step - accuracy: 0.7000 - loss: 0.9189\n",
            "Epoch 11/60\n",
            "1/1 - 0s - 58ms/step - accuracy: 0.7333 - loss: 0.8999\n",
            "Epoch 12/60\n",
            "1/1 - 0s - 59ms/step - accuracy: 0.7333 - loss: 0.8805\n",
            "Epoch 13/60\n",
            "1/1 - 0s - 55ms/step - accuracy: 0.7333 - loss: 0.8608\n",
            "Epoch 14/60\n",
            "1/1 - 0s - 53ms/step - accuracy: 0.7167 - loss: 0.8411\n",
            "Epoch 15/60\n",
            "1/1 - 0s - 50ms/step - accuracy: 0.7000 - loss: 0.8218\n",
            "Epoch 16/60\n",
            "1/1 - 0s - 55ms/step - accuracy: 0.7000 - loss: 0.8031\n",
            "Epoch 17/60\n",
            "1/1 - 0s - 47ms/step - accuracy: 0.7000 - loss: 0.7850\n",
            "Epoch 18/60\n",
            "1/1 - 0s - 44ms/step - accuracy: 0.7000 - loss: 0.7673\n",
            "Epoch 19/60\n",
            "1/1 - 0s - 59ms/step - accuracy: 0.7000 - loss: 0.7502\n",
            "Epoch 20/60\n",
            "1/1 - 0s - 61ms/step - accuracy: 0.7000 - loss: 0.7335\n",
            "Epoch 21/60\n",
            "1/1 - 0s - 48ms/step - accuracy: 0.7000 - loss: 0.7174\n",
            "Epoch 22/60\n",
            "1/1 - 0s - 61ms/step - accuracy: 0.7000 - loss: 0.7017\n",
            "Epoch 23/60\n",
            "1/1 - 0s - 140ms/step - accuracy: 0.7000 - loss: 0.6865\n",
            "Epoch 24/60\n",
            "1/1 - 0s - 54ms/step - accuracy: 0.7000 - loss: 0.6716\n",
            "Epoch 25/60\n",
            "1/1 - 0s - 46ms/step - accuracy: 0.7000 - loss: 0.6573\n",
            "Epoch 26/60\n",
            "1/1 - 0s - 46ms/step - accuracy: 0.7083 - loss: 0.6433\n",
            "Epoch 27/60\n",
            "1/1 - 0s - 58ms/step - accuracy: 0.7167 - loss: 0.6299\n",
            "Epoch 28/60\n",
            "1/1 - 0s - 45ms/step - accuracy: 0.7250 - loss: 0.6170\n",
            "Epoch 29/60\n",
            "1/1 - 0s - 57ms/step - accuracy: 0.7333 - loss: 0.6044\n",
            "Epoch 30/60\n",
            "1/1 - 0s - 60ms/step - accuracy: 0.7667 - loss: 0.5922\n",
            "Epoch 31/60\n",
            "1/1 - 0s - 59ms/step - accuracy: 0.7917 - loss: 0.5803\n",
            "Epoch 32/60\n",
            "1/1 - 0s - 45ms/step - accuracy: 0.8000 - loss: 0.5688\n",
            "Epoch 33/60\n",
            "1/1 - 0s - 63ms/step - accuracy: 0.8250 - loss: 0.5577\n",
            "Epoch 34/60\n",
            "1/1 - 0s - 54ms/step - accuracy: 0.8250 - loss: 0.5469\n",
            "Epoch 35/60\n",
            "1/1 - 0s - 50ms/step - accuracy: 0.8417 - loss: 0.5366\n",
            "Epoch 36/60\n",
            "1/1 - 0s - 58ms/step - accuracy: 0.8417 - loss: 0.5267\n",
            "Epoch 37/60\n",
            "1/1 - 0s - 51ms/step - accuracy: 0.8500 - loss: 0.5171\n",
            "Epoch 38/60\n",
            "1/1 - 0s - 57ms/step - accuracy: 0.8500 - loss: 0.5079\n",
            "Epoch 39/60\n",
            "1/1 - 0s - 142ms/step - accuracy: 0.8500 - loss: 0.4990\n",
            "Epoch 40/60\n",
            "1/1 - 0s - 58ms/step - accuracy: 0.8500 - loss: 0.4904\n",
            "Epoch 41/60\n",
            "1/1 - 0s - 61ms/step - accuracy: 0.8500 - loss: 0.4821\n",
            "Epoch 42/60\n",
            "1/1 - 0s - 56ms/step - accuracy: 0.8583 - loss: 0.4741\n",
            "Epoch 43/60\n",
            "1/1 - 0s - 59ms/step - accuracy: 0.8583 - loss: 0.4662\n",
            "Epoch 44/60\n",
            "1/1 - 0s - 50ms/step - accuracy: 0.8667 - loss: 0.4586\n",
            "Epoch 45/60\n",
            "1/1 - 0s - 49ms/step - accuracy: 0.8667 - loss: 0.4513\n",
            "Epoch 46/60\n",
            "1/1 - 0s - 50ms/step - accuracy: 0.8750 - loss: 0.4441\n",
            "Epoch 47/60\n",
            "1/1 - 0s - 61ms/step - accuracy: 0.8833 - loss: 0.4373\n",
            "Epoch 48/60\n",
            "1/1 - 0s - 57ms/step - accuracy: 0.9000 - loss: 0.4306\n",
            "Epoch 49/60\n",
            "1/1 - 0s - 59ms/step - accuracy: 0.9083 - loss: 0.4241\n",
            "Epoch 50/60\n",
            "1/1 - 0s - 59ms/step - accuracy: 0.9083 - loss: 0.4179\n",
            "Epoch 51/60\n",
            "1/1 - 0s - 52ms/step - accuracy: 0.9167 - loss: 0.4118\n",
            "Epoch 52/60\n",
            "1/1 - 0s - 59ms/step - accuracy: 0.9167 - loss: 0.4058\n",
            "Epoch 53/60\n",
            "1/1 - 0s - 58ms/step - accuracy: 0.9167 - loss: 0.4000\n",
            "Epoch 54/60\n",
            "1/1 - 0s - 69ms/step - accuracy: 0.9167 - loss: 0.3943\n",
            "Epoch 55/60\n",
            "1/1 - 0s - 129ms/step - accuracy: 0.9250 - loss: 0.3888\n",
            "Epoch 56/60\n",
            "1/1 - 0s - 61ms/step - accuracy: 0.9250 - loss: 0.3834\n",
            "Epoch 57/60\n",
            "1/1 - 0s - 50ms/step - accuracy: 0.9250 - loss: 0.3780\n",
            "Epoch 58/60\n",
            "1/1 - 0s - 60ms/step - accuracy: 0.9250 - loss: 0.3728\n",
            "Epoch 59/60\n",
            "1/1 - 0s - 58ms/step - accuracy: 0.9333 - loss: 0.3676\n",
            "Epoch 60/60\n",
            "1/1 - 0s - 59ms/step - accuracy: 0.9333 - loss: 0.3625\n",
            "Test accuracy: 0.9333\n"
          ]
        }
      ]
    },
    {
      "cell_type": "markdown",
      "metadata": {
        "id": "5suI1lmskE7p"
      },
      "source": [
        "###Evaluation"
      ]
    },
    {
      "cell_type": "code",
      "metadata": {
        "id": "23rIrgbxkJUO",
        "colab": {
          "base_uri": "https://localhost:8080/"
        },
        "outputId": "670fb07d-8fb5-4b5a-c6d9-5ec3a0d0ec3a"
      },
      "source": [
        "loss, accuracy = model.evaluate(X_test, y_test, verbose=0)\n",
        "\n",
        "print('\\nTest set accuracy: {:.3f}\\n'.format(accuracy))"
      ],
      "execution_count": null,
      "outputs": [
        {
          "output_type": "stream",
          "name": "stdout",
          "text": [
            "\n",
            "Test set accuracy: 0.933\n",
            "\n"
          ]
        }
      ]
    },
    {
      "cell_type": "markdown",
      "metadata": {
        "id": "464HkZ6lknua"
      },
      "source": [
        "### Predictions"
      ]
    },
    {
      "cell_type": "code",
      "metadata": {
        "id": "bQRLq4M1k1jm",
        "colab": {
          "base_uri": "https://localhost:8080/"
        },
        "outputId": "b3de98e6-b903-4abf-a1ae-c031f9ef7a3d"
      },
      "source": [
        "import numpy as np\n",
        "\n",
        "features = ['SepalLength', 'SepalWidth', 'PetalLength', 'PetalWidth']\n",
        "predict = []\n",
        "\n",
        "print(\"Please type numeric values as prompted.\")\n",
        "for feature in features:\n",
        "    while True:\n",
        "        val = input(f\"{feature}: \")\n",
        "        try:\n",
        "            predict.append(float(val))\n",
        "            break\n",
        "        except ValueError:\n",
        "            print(\"Please enter a valid number.\")\n",
        "\n",
        "# Converte a entrada para o formato esperado: (1, 4) — uma amostra com 4 features\n",
        "predict_array = np.array([predict])\n",
        "\n",
        "# Faz a previsão com o modelo Keras\n",
        "predictions = model.predict(predict_array)\n",
        "class_id = np.argmax(predictions[0])  # Índice da classe com maior probabilidade\n",
        "probability = predictions[0][class_id]\n",
        "\n",
        "print('\\nPrediction is \"{}\" ({:.1f}%)'.format(\n",
        "    SPECIES[class_id], 100 * probability))\n"
      ],
      "execution_count": null,
      "outputs": [
        {
          "output_type": "stream",
          "name": "stdout",
          "text": [
            "Please type numeric values as prompted.\n",
            "SepalLength: 5.1\n",
            "SepalWidth: 3.3\n",
            "PetalLength: 1.7\n",
            "PetalWidth: 0.5\n",
            "\u001b[1m1/1\u001b[0m \u001b[32m━━━━━━━━━━━━━━━━━━━━\u001b[0m\u001b[37m\u001b[0m \u001b[1m0s\u001b[0m 43ms/step\n",
            "\n",
            "Prediction is \"Setosa\" (86.7%)\n"
          ]
        }
      ]
    },
    {
      "cell_type": "code",
      "metadata": {
        "id": "-tRxhpmSr1FH"
      },
      "source": [
        "# Here is some example input and expected classes you can try above\n",
        "expected = ['Setosa', 'Versicolor', 'Virginica']\n",
        "predict_x = {\n",
        "    'SepalLength': [5.1, 5.9, 6.9],\n",
        "    'SepalWidth': [3.3, 3.0, 3.1],\n",
        "    'PetalLength': [1.7, 4.2, 5.4],\n",
        "    'PetalWidth': [0.5, 1.5, 2.1],\n",
        "}"
      ],
      "execution_count": null,
      "outputs": []
    }
  ]
}